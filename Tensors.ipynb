{
  "nbformat": 4,
  "nbformat_minor": 0,
  "metadata": {
    "colab": {
      "provenance": [],
      "toc_visible": true,
      "authorship_tag": "ABX9TyPucHPQgEAN9AkRI36iuieL",
      "include_colab_link": true
    },
    "kernelspec": {
      "name": "python3",
      "display_name": "Python 3"
    },
    "language_info": {
      "name": "python"
    }
  },
  "cells": [
    {
      "cell_type": "markdown",
      "metadata": {
        "id": "view-in-github",
        "colab_type": "text"
      },
      "source": [
        "<a href=\"https://colab.research.google.com/github/Darachhat/Pytorch-Intro/blob/main/Tensors.ipynb\" target=\"_parent\"><img src=\"https://colab.research.google.com/assets/colab-badge.svg\" alt=\"Open In Colab\"/></a>"
      ]
    },
    {
      "cell_type": "markdown",
      "source": [
        "\n",
        "Tensors"
      ],
      "metadata": {
        "id": "BN7NhH0KZW2o"
      }
    },
    {
      "cell_type": "code",
      "execution_count": null,
      "metadata": {
        "id": "6k_aHFZyYhiy"
      },
      "outputs": [],
      "source": [
        "import torch\n",
        "import numpy as np"
      ]
    },
    {
      "cell_type": "markdown",
      "source": [
        "# Lists"
      ],
      "metadata": {
        "id": "iCKjD3RKY7JL"
      }
    },
    {
      "cell_type": "code",
      "source": [
        "my_list = [[1,2,3,4,5], [6,7,8,9,10]]\n",
        "my_list"
      ],
      "metadata": {
        "colab": {
          "base_uri": "https://localhost:8080/"
        },
        "id": "SjJic5ASY_kH",
        "outputId": "205a9374-2b31-4f60-80c9-80603cb9ed6a"
      },
      "execution_count": null,
      "outputs": [
        {
          "output_type": "execute_result",
          "data": {
            "text/plain": [
              "[[1, 2, 3, 4, 5], [6, 7, 8, 9, 10]]"
            ]
          },
          "metadata": {},
          "execution_count": 2
        }
      ]
    },
    {
      "cell_type": "markdown",
      "source": [
        "# Numpy Arrays"
      ],
      "metadata": {
        "id": "2GiZS5B-ZPtw"
      }
    },
    {
      "cell_type": "code",
      "source": [
        "np1 = np.random.rand(3,4)\n",
        "np1"
      ],
      "metadata": {
        "colab": {
          "base_uri": "https://localhost:8080/"
        },
        "id": "FESqR2rvZ-Jq",
        "outputId": "26bb25bb-663b-4aa9-9e2c-4aedc45f41f4"
      },
      "execution_count": null,
      "outputs": [
        {
          "output_type": "execute_result",
          "data": {
            "text/plain": [
              "array([[0.19843144, 0.76404735, 0.20274888, 0.48989126],\n",
              "       [0.82365855, 0.71907548, 0.05327956, 0.70777056],\n",
              "       [0.66935729, 0.56453059, 0.10781264, 0.62321724]])"
            ]
          },
          "metadata": {},
          "execution_count": 4
        }
      ]
    },
    {
      "cell_type": "code",
      "source": [
        "np1.dtype"
      ],
      "metadata": {
        "colab": {
          "base_uri": "https://localhost:8080/"
        },
        "id": "pqHiiAzraQOO",
        "outputId": "a5f56f0c-bd62-483a-9a79-9529e017e50c"
      },
      "execution_count": null,
      "outputs": [
        {
          "output_type": "execute_result",
          "data": {
            "text/plain": [
              "dtype('float64')"
            ]
          },
          "metadata": {},
          "execution_count": 5
        }
      ]
    },
    {
      "cell_type": "markdown",
      "source": [
        "# TENSORS\n"
      ],
      "metadata": {
        "id": "EJyAOcJbacjl"
      }
    },
    {
      "cell_type": "code",
      "source": [
        "tensor_2d = torch.randn(3,4)\n",
        "tensor_2d\n",
        "#tensor_2d.dtype"
      ],
      "metadata": {
        "colab": {
          "base_uri": "https://localhost:8080/"
        },
        "id": "EHXQK2e_apv0",
        "outputId": "c8117237-1e00-407a-ba3a-0dbd941d1fd1"
      },
      "execution_count": null,
      "outputs": [
        {
          "output_type": "execute_result",
          "data": {
            "text/plain": [
              "tensor([[ 1.1714,  0.6599,  1.2301, -0.0562],\n",
              "        [-0.1031, -0.0995,  0.4045, -0.2489],\n",
              "        [ 1.1801, -1.0572, -0.3667,  0.2712]])"
            ]
          },
          "metadata": {},
          "execution_count": 7
        }
      ]
    },
    {
      "cell_type": "code",
      "source": [
        "tensor_3d = torch.zeros(2,3,4)\n",
        "tensor_3d"
      ],
      "metadata": {
        "colab": {
          "base_uri": "https://localhost:8080/"
        },
        "id": "K7WJhrwba8Pr",
        "outputId": "31bc8a46-71b0-442b-f5c1-fc8798c450b0"
      },
      "execution_count": null,
      "outputs": [
        {
          "output_type": "execute_result",
          "data": {
            "text/plain": [
              "tensor([[[0., 0., 0., 0.],\n",
              "         [0., 0., 0., 0.],\n",
              "         [0., 0., 0., 0.]],\n",
              "\n",
              "        [[0., 0., 0., 0.],\n",
              "         [0., 0., 0., 0.],\n",
              "         [0., 0., 0., 0.]]])"
            ]
          },
          "metadata": {},
          "execution_count": 8
        }
      ]
    },
    {
      "cell_type": "code",
      "source": [
        "## create tensor out of numpy array\n",
        "my_tensor = torch.tensor(np1)\n",
        "my_tensor"
      ],
      "metadata": {
        "colab": {
          "base_uri": "https://localhost:8080/"
        },
        "id": "1Q5Y6ID4bPcN",
        "outputId": "935f9077-1dd1-436c-f28e-0e4f1291a73a"
      },
      "execution_count": null,
      "outputs": [
        {
          "output_type": "execute_result",
          "data": {
            "text/plain": [
              "tensor([[0.1984, 0.7640, 0.2027, 0.4899],\n",
              "        [0.8237, 0.7191, 0.0533, 0.7078],\n",
              "        [0.6694, 0.5645, 0.1078, 0.6232]], dtype=torch.float64)"
            ]
          },
          "metadata": {},
          "execution_count": 9
        }
      ]
    }
  ]
}