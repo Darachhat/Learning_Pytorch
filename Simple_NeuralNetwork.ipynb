{
  "nbformat": 4,
  "nbformat_minor": 0,
  "metadata": {
    "colab": {
      "provenance": [],
      "gpuType": "T4",
      "authorship_tag": "ABX9TyM6XY6t5bwn32qr3U9oM4MQ",
      "include_colab_link": true
    },
    "kernelspec": {
      "name": "python3",
      "display_name": "Python 3"
    },
    "language_info": {
      "name": "python"
    },
    "accelerator": "GPU"
  },
  "cells": [
    {
      "cell_type": "markdown",
      "metadata": {
        "id": "view-in-github",
        "colab_type": "text"
      },
      "source": [
        "<a href=\"https://colab.research.google.com/github/Darachhat/Learning_Pytorch/blob/main/Simple_NeuralNetwork.ipynb\" target=\"_parent\"><img src=\"https://colab.research.google.com/assets/colab-badge.svg\" alt=\"Open In Colab\"/></a>"
      ]
    },
    {
      "cell_type": "code",
      "execution_count": 3,
      "metadata": {
        "id": "TrR7zaAMGy1l"
      },
      "outputs": [],
      "source": [
        "import torch\n",
        "import torch.nn as nn\n",
        "import torch.nn.functional as F"
      ]
    },
    {
      "cell_type": "code",
      "source": [
        "# Create a Model Class that inherits nn.Module\n",
        "class Model(nn.Module):\n",
        " # Input Layer (  4 features of the flower) -->\n",
        " # Hidden Layer1 (number of neurons) -->\n",
        " # H2 (n) -->\n",
        " # output (3 classes of iris flowers)\n",
        " def __init__(self,in_features = 4, h1= 8, h2= 9, out_features= 3):\n",
        "  super().__init__() # instantiate our nn.Module\n",
        "  self.fc1 = nn.Linear(in_features, h1)\n",
        "  self.fc2 = nn.Linear(h1, h2)\n",
        "  self.fc3 = nn.Linear(h2, out_features)\n",
        "\n",
        "def forward(self, x):\n",
        "  x = F.relu(self.fc1(x))\n",
        "  x = F.relu(self.fc2(x))\n",
        "  x = self.out(x)\n",
        "  return x"
      ],
      "metadata": {
        "id": "74I1TvUaIbpP"
      },
      "execution_count": 5,
      "outputs": []
    },
    {
      "cell_type": "code",
      "source": [
        "# Pick a manual seed\n",
        "torch.manual_seed(41)\n",
        "# Create an instance of model\n",
        "model = Model()"
      ],
      "metadata": {
        "id": "ANzrBo8jLHqc"
      },
      "execution_count": 7,
      "outputs": []
    }
  ]
}